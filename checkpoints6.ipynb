{
 "cells": [
  {
   "cell_type": "code",
   "execution_count": 1,
   "id": "47062eee",
   "metadata": {},
   "outputs": [
    {
     "name": "stdout",
     "output_type": "stream",
     "text": [
      "donner un nombre de ligne:3\n",
      "donner le nombre de la liste:9\n",
      "[[0 1 2]\n",
      " [3 4 5]\n",
      " [6 7 8]]\n",
      "12\n"
     ]
    }
   ],
   "source": [
    "#exercice2\n",
    "import numpy as np\n",
    "y=int(input(\"donner un nombre de ligne:\"))\n",
    "x=int(input(\"donner le nombre de la liste:\"))\n",
    "a=np.arange(x).reshape(y,y)\n",
    "print(a)\n",
    "A = np.trace(a) \n",
    "print(A)"
   ]
  },
  {
   "cell_type": "code",
   "execution_count": 2,
   "id": "f88ac490",
   "metadata": {},
   "outputs": [
    {
     "name": "stdout",
     "output_type": "stream",
     "text": [
      "array 2: array('i', [1, 9, 7, 9, 4, 9, 3, 0, 7])\n",
      "Convert the said array to an ordinary list with the same items:\n",
      "[1, 9, 7, 9, 4, 9, 3, 0, 7]\n"
     ]
    }
   ],
   "source": [
    "#exercice1\n",
    "from array import *\n",
    "array_num = array('i', [1, 9,7,9,4,9,3,0,7])\n",
    "print(\"array 2: \"+str(array_num))\n",
    "num_list = array_num.tolist()\n",
    "print(\"Convert the said array to an ordinary list with the same items:\")\n",
    "print(num_list)"
   ]
  },
  {
   "cell_type": "code",
   "execution_count": 11,
   "id": "6e3e2f15",
   "metadata": {},
   "outputs": [
    {
     "name": "stdout",
     "output_type": "stream",
     "text": [
      "give a number5\n",
      "6\n",
      "7\n",
      "8\n",
      "9\n",
      "9\n"
     ]
    }
   ],
   "source": [
    "#exercice3\n",
    "import numpy as np\n",
    "a=np.array([[1,2,3],[4,5,6],[7,8,9]])\n",
    "b=int(input(\"give a number\"))\n",
    "for i in a:\n",
    "    for j in i:\n",
    "        if j>b:\n",
    "            \n",
    "            print(j)\n",
    "print(j)"
   ]
  },
  {
   "cell_type": "code",
   "execution_count": 7,
   "id": "e9a14ba7",
   "metadata": {},
   "outputs": [
    {
     "name": "stdout",
     "output_type": "stream",
     "text": [
      "[[8 9]\n",
      " [4 5]]\n",
      "[[4 8]\n",
      " [2 3]]\n",
      "[[12 17]\n",
      " [ 6  8]]\n"
     ]
    }
   ],
   "source": [
    "#exercice4\n",
    "import numpy as np\n",
    "a=np.random.randint(2,10,size=(2,2))\n",
    "b=np.random.randint(2,10,size=(2,2))\n",
    "print(a)\n",
    "print(b)\n",
    "c=a+b\n",
    "print(c)"
   ]
  },
  {
   "cell_type": "code",
   "execution_count": 2,
   "id": "b2ae2a00",
   "metadata": {},
   "outputs": [
    {
     "name": "stdout",
     "output_type": "stream",
     "text": [
      "Original matrix:\n",
      "\n",
      "[[0.87918454 0.88106147 0.26496716 0.37872033 0.63003494 0.77931982\n",
      "  0.1252399  0.43772847 0.5185415  0.70952781]\n",
      " [0.75217001 0.76368838 0.81616747 0.01652243 0.16175963 0.66591595\n",
      "  0.40942007 0.44282541 0.88204598 0.67861444]\n",
      " [0.82255223 0.91933259 0.94380683 0.09126073 0.46834886 0.19857531\n",
      "  0.06676047 0.62961297 0.58588356 0.03482866]\n",
      " [0.13945077 0.59512765 0.12573385 0.94713225 0.90791876 0.91943179\n",
      "  0.29478309 0.44385809 0.00528185 0.36868378]\n",
      " [0.34258148 0.28459682 0.4189874  0.43576682 0.74361091 0.08010477\n",
      "  0.6749062  0.25107878 0.29336033 0.64743768]]\n",
      "\n",
      "Subtract the mean of each row of the said matrix:\n",
      "\n",
      "[[ 0.31875195  0.32062888 -0.29546544 -0.18171226  0.06960235  0.21888722\n",
      "  -0.4351927  -0.12270413 -0.04189109  0.14909522]\n",
      " [ 0.19325704  0.20477541  0.2572545  -0.54239055 -0.39715335  0.10700298\n",
      "  -0.1494929  -0.11608757  0.323133    0.11970146]\n",
      " [ 0.34645601  0.44323637  0.46771061 -0.38483549 -0.00774737 -0.27752091\n",
      "  -0.40933575  0.15351675  0.10978734 -0.44126756]\n",
      " [-0.33528942  0.12038746 -0.34900634  0.47239206  0.43317858  0.4446916\n",
      "  -0.1799571  -0.03088209 -0.46945834 -0.10605641]\n",
      " [-0.07466164 -0.1326463   0.00174428  0.0185237   0.32636779 -0.33713835\n",
      "   0.25766308 -0.16616434 -0.12388279  0.23019456]]\n"
     ]
    }
   ],
   "source": [
    "#exercice5\n",
    "import numpy as np\n",
    "print(\"Original matrix:\\n\")\n",
    "X = np.random.rand(5, 10)\n",
    "print(X)\n",
    "print(\"\\nSubtract the mean of each row of the said matrix:\\n\")\n",
    "Y = X - X.mean(axis=1, keepdims=True)\n",
    "print(Y)\n",
    "\n"
   ]
  },
  {
   "cell_type": "code",
   "execution_count": null,
   "id": "3885b103",
   "metadata": {},
   "outputs": [],
   "source": []
  }
 ],
 "metadata": {
  "kernelspec": {
   "display_name": "Python 3",
   "language": "python",
   "name": "python3"
  },
  "language_info": {
   "codemirror_mode": {
    "name": "ipython",
    "version": 3
   },
   "file_extension": ".py",
   "mimetype": "text/x-python",
   "name": "python",
   "nbconvert_exporter": "python",
   "pygments_lexer": "ipython3",
   "version": "3.8.8"
  }
 },
 "nbformat": 4,
 "nbformat_minor": 5
}
