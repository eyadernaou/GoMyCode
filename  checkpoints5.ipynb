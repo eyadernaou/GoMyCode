{
 "cells": [
  {
   "cell_type": "code",
   "execution_count": 6,
   "id": "752b710e",
   "metadata": {},
   "outputs": [
    {
     "name": "stdout",
     "output_type": "stream",
     "text": [
      "x=5,y=8,z=1\n"
     ]
    }
   ],
   "source": [
    "#exercice1\n",
    "class Point3D:\n",
    "    def __init__(self, x , y ,z):\n",
    "        self.x=x\n",
    "        self.y=y\n",
    "        self.z=z\n",
    "    def eya(self):\n",
    "        return \"x={},y={},z={}\".format(self.x,self.y,self.z)\n",
    "d= Point3D(5,8,1)\n",
    "print(d.eya())\n"
   ]
  },
  {
   "cell_type": "code",
   "execution_count": 12,
   "id": "dc07e028",
   "metadata": {},
   "outputs": [
    {
     "name": "stdout",
     "output_type": "stream",
     "text": [
      "the per is: 28 the area is: 45\n"
     ]
    }
   ],
   "source": [
    "#exercice 2\n",
    "class Rectangle:\n",
    "    def __init__(self,l,w):\n",
    "        self.l=l\n",
    "        self.w=w\n",
    "    def per(self):\n",
    "        a=2*(self.l+self.w)\n",
    "        return a\n",
    "    def area (self):\n",
    "        b=self.l*self.w\n",
    "        return b\n",
    "d=Rectangle (5,9)\n",
    "x=d.per()\n",
    "y=d.area()\n",
    "print(\"the per is:\",x,\"the area is:\",y)"
   ]
  },
  {
   "cell_type": "code",
   "execution_count": 25,
   "id": "6d27edb7",
   "metadata": {},
   "outputs": [
    {
     "name": "stdout",
     "output_type": "stream",
     "text": [
      "how much do  you have in your account:500\n",
      "how much do  you deposit:80\n",
      "how much do  you withdraw:800\n",
      " your deposit is: 580 your bank account has -220\n"
     ]
    }
   ],
   "source": [
    "#exercice4\n",
    "class bank:\n",
    "    def __init__(self,t):\n",
    "        self.total=t\n",
    "    def deposit (self,v):\n",
    "        self.total+=v\n",
    "        return self.total\n",
    "    def withdraw (self,v):\n",
    "        self.total-=v\n",
    "        return self.total\n",
    "c=int(input(\"how much do  you have in your account:\"))\n",
    "a=int(input(\"how much do  you deposit:\"))\n",
    "b=int(input(\"how much do  you withdraw:\"))\n",
    "n=bank(c)\n",
    "s=n.deposit(a)\n",
    "i=n.withdraw(b)\n",
    "print(\" your deposit is:\",s,\"your bank account has\",i)"
   ]
  },
  {
   "cell_type": "code",
   "execution_count": 1,
   "id": "6b5c523c",
   "metadata": {},
   "outputs": [
    {
     "name": "stdout",
     "output_type": "stream",
     "text": [
      "xo: 5\n",
      "yo: 3\n",
      "r: 2\n",
      "(12.566370614359172, 12.566370614359172)\n",
      "xc: 4\n",
      "yc: 9\n",
      "c is outside the circle  \n"
     ]
    }
   ],
   "source": [
    "#exercice3\n",
    "from math import*\n",
    "class Circle :\n",
    "    def __init__(self,o,r):\n",
    "        self.center = o\n",
    "        self.radius = r\n",
    "    def Circle_perimeter(self):\n",
    "        return self.radius*pi*2\n",
    "    def Circle_area(self):\n",
    "        return self.radius**2*pi\n",
    "xo =int(input(\"xo: \"))\n",
    "yo =int(input(\"yo: \"))\n",
    "o=(xo,yo)\n",
    "r= int(input(\"r: \"))\n",
    "circle=Circle(o,r)\n",
    "area= circle.Circle_area()\n",
    "perimeter=circle.Circle_perimeter()\n",
    "my_circle=(area,perimeter)\n",
    "print (my_circle)\n",
    "xc =int(input(\"xc: \"))\n",
    "yc =int(input(\"yc: \"))\n",
    "c=(xc,yc)\n",
    "oc=sqrt(((xc-xo)**2)+((yc-yo)**2))\n",
    "a = oc\n",
    "if r>a :\n",
    "    print(\"c is inside the circle  \")\n",
    "elif r==a :\n",
    "    print(\"c is on the circle \")\n",
    "else:\n",
    "    print(\"c is outside the circle  \")\n"
   ]
  },
  {
   "cell_type": "code",
   "execution_count": null,
   "id": "49920ee6",
   "metadata": {},
   "outputs": [],
   "source": []
  }
 ],
 "metadata": {
  "kernelspec": {
   "display_name": "Python 3",
   "language": "python",
   "name": "python3"
  },
  "language_info": {
   "codemirror_mode": {
    "name": "ipython",
    "version": 3
   },
   "file_extension": ".py",
   "mimetype": "text/x-python",
   "name": "python",
   "nbconvert_exporter": "python",
   "pygments_lexer": "ipython3",
   "version": "3.8.8"
  }
 },
 "nbformat": 4,
 "nbformat_minor": 5
}
