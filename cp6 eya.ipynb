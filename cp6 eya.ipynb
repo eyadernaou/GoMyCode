{
 "cells": [
  {
   "cell_type": "code",
   "execution_count": 1,
   "id": "47062eee",
   "metadata": {},
   "outputs": [
    {
     "name": "stdout",
     "output_type": "stream",
     "text": [
      "donner un nombre de ligne:3\n",
      "donner le nombre de la liste:9\n",
      "[[0 1 2]\n",
      " [3 4 5]\n",
      " [6 7 8]]\n",
      "12\n"
     ]
    }
   ],
   "source": [
    "#exercice2\n",
    "import numpy as np\n",
    "y=int(input(\"donner un nombre de ligne:\"))\n",
    "x=int(input(\"donner le nombre de la liste:\"))\n",
    "a=np.arange(x).reshape(y,y)\n",
    "print(a)\n",
    "A = np.trace(a) \n",
    "print(A)"
   ]
  },
  {
   "cell_type": "code",
   "execution_count": 2,
   "id": "f88ac490",
   "metadata": {},
   "outputs": [
    {
     "name": "stdout",
     "output_type": "stream",
     "text": [
      "array 2: array('i', [1, 9, 7, 9, 4, 9, 3, 0, 7])\n",
      "Convert the said array to an ordinary list with the same items:\n",
      "[1, 9, 7, 9, 4, 9, 3, 0, 7]\n"
     ]
    }
   ],
   "source": [
    "#exercice1\n",
    "from array import *\n",
    "array_num = np.array([1, 9,7,9,4,9,3,0,7])\n",
    "print(\"array 2: \"+str(array_num))\n",
    "num_list = array_num.tolist()\n",
    "print(\"Convert the said array to an ordinary list with the same items:\")\n",
    "print(num_list)"
   ]
  },
  {
   "cell_type": "code",
   "execution_count": 11,
   "id": "6e3e2f15",
   "metadata": {},
   "outputs": [
    {
     "name": "stdout",
     "output_type": "stream",
     "text": [
      "give a number5\n",
      "6\n",
      "7\n",
      "8\n",
      "9\n",
      "9\n"
     ]
    }
   ],
   "source": [
    "#exercice3\n",
    "import numpy as np\n",
    "a=np.array([[1,2,3],[4,5,6],[7,8,9]])\n",
    "b=int(input(\"give a number\"))\n",
    "for i in a:\n",
    "    for j in i:\n",
    "        if j>b:\n",
    "            \n",
    "            print(j)"
   ]
  },
  {
   "cell_type": "code",
   "execution_count": 7,
   "id": "e9a14ba7",
   "metadata": {},
   "outputs": [
    {
     "name": "stdout",
     "output_type": "stream",
     "text": [
      "[[8 9]\n",
      " [4 5]]\n",
      "[[4 8]\n",
      " [2 3]]\n",
      "[[12 17]\n",
      " [ 6  8]]\n"
     ]
    }
   ],
   "source": [
    "#exercice4\n",
    "import numpy as np\n",
    "a=np.random.randint(2,10,size=(2,2))\n",
    "b=np.random.randint(2,10,size=(2,2))\n",
    "print(a)\n",
    "print(b)\n",
    "c=a+b\n",
    "print(c)"
   ]
  },
  {
   "cell_type": "code",
   "execution_count": 7,
   "id": "b2ae2a00",
   "metadata": {},
   "outputs": [
    {
     "name": "stdout",
     "output_type": "stream",
     "text": [
      "Original matrix:\n",
      "\n",
      "[[8 9]\n",
      " [5 5]]\n",
      "\n",
      "Subtract the mean of each row of the said matrix:\n",
      "\n",
      "[[ 1.5  2. ]\n",
      " [-1.5 -2. ]]\n"
     ]
    }
   ],
   "source": [
    "#exercice5\n",
    "import numpy as np\n",
    "print(\"Original matrix:\\n\")\n",
    "X = np.random.randint(5, 10,(2,2))\n",
    "print(X)\n",
    "print(\"\\nSubtract the mean of each row of the said matrix:\\n\")\n",
    "Y = X - X.mean(axis=0, keepdims=True)\n",
    "print(Y)\n",
    "\n"
   ]
  },
  {
   "cell_type": "code",
   "execution_count": null,
   "id": "3885b103",
   "metadata": {},
   "outputs": [],
   "source": []
  }
 ],
 "metadata": {
  "kernelspec": {
   "display_name": "Python 3",
   "language": "python",
   "name": "python3"
  },
  "language_info": {
   "codemirror_mode": {
    "name": "ipython",
    "version": 3
   },
   "file_extension": ".py",
   "mimetype": "text/x-python",
   "name": "python",
   "nbconvert_exporter": "python",
   "pygments_lexer": "ipython3",
   "version": "3.8.8"
  }
 },
 "nbformat": 4,
 "nbformat_minor": 5
}
