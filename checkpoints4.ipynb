{
 "cells": [
  {
   "cell_type": "code",
   "execution_count": 2,
   "id": "ac7c0fb0",
   "metadata": {},
   "outputs": [
    {
     "name": "stdout",
     "output_type": "stream",
     "text": [
      "6\n"
     ]
    }
   ],
   "source": [
    "#question1\n",
    "def max_of_two( x, y ):\n",
    "    if x > y:\n",
    "        return x\n",
    "    return y\n",
    "def max_of_three( x, y, z ):\n",
    "    return max_of_two( x, max_of_two( y, z ) )\n",
    "print(max_of_three(3, 6, -5))\n"
   ]
  },
  {
   "cell_type": "code",
   "execution_count": 8,
   "id": "ab8e710f",
   "metadata": {},
   "outputs": [
    {
     "name": "stdout",
     "output_type": "stream",
     "text": [
      "(50, 30)\n"
     ]
    }
   ],
   "source": [
    "#queqtion2\n",
    "def calculation(a, b):\n",
    "    return a+b, a-b\n",
    "\n",
    "result = calculation(40, 10)\n",
    "print(result)\n"
   ]
  },
  {
   "cell_type": "code",
   "execution_count": 53,
   "id": "378c8ef7",
   "metadata": {},
   "outputs": [
    {
     "name": "stdout",
     "output_type": "stream",
     "text": [
      "enter a hyphen-separated sequencegreen-red-yellow-black-white\n",
      "black-green-red-white-yellow\n"
     ]
    }
   ],
   "source": [
    "#question4\n",
    "n=input(\"enter a hyphen-separated sequence: \")\n",
    "I=n.split('-')\n",
    "I.sort()\n",
    "print ('-'.join(I))"
   ]
  },
  {
   "cell_type": "code",
   "execution_count": null,
   "id": "c412c689",
   "metadata": {},
   "outputs": [],
   "source": [
    "#question3\n",
    "l=[]\n",
    "n=int(input(\"donner le nombre d'elements de la liste \"))\n",
    "for i in range(0,n):\n",
    "    a=int(input(\"donner nombre\"))\n",
    "    l.append(a)\n",
    "def somme(l):\n",
    "    s=0\n",
    "    for i in l:\n",
    "        s=s+i\n",
    "        \n",
    "    return s\n",
    "def produit(l):\n",
    "    p=1\n",
    "    for i in l:\n",
    "        p=p*i\n",
    "    return p\n",
    "l1=[]\n",
    "l2=[]\n",
    "for i in range (0,len(l),2):\n",
    "    l1.append(l[i])\n",
    "    x=somme(l1)\n",
    "    \n",
    "print(\"the sum of the even numbers is \",x)\n",
    "for i in range (1,len(l),2):\n",
    "    l2.append(l[i])\n",
    "    y=produit(l2)\n",
    "print(\"the sum of the even numbers is \",y)\n"
   ]
  }
 ],
 "metadata": {
  "kernelspec": {
   "display_name": "Python 3",
   "language": "python",
   "name": "python3"
  },
  "language_info": {
   "codemirror_mode": {
    "name": "ipython",
    "version": 3
   },
   "file_extension": ".py",
   "mimetype": "text/x-python",
   "name": "python",
   "nbconvert_exporter": "python",
   "pygments_lexer": "ipython3",
   "version": "3.8.8"
  }
 },
 "nbformat": 4,
 "nbformat_minor": 5
}
