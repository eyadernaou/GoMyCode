{
 "cells": [
  {
   "cell_type": "code",
   "execution_count": 28,
   "id": "e0370d17",
   "metadata": {},
   "outputs": [
    {
     "data": {
      "text/plain": [
       "'What is Python language?\\nPython is a widely used high-level, general-purpose, interpreted, dynamic programming language.Its design philosophy emphasizes code readability, and its syntax allows programmers to express concepts in fewer lines of code than possible in \\nlanguages such as C++ or Java. \\nPython supports multiple programming paradigms, including object-oriented, imperative and functional programming or procedural styles.\\nIt features a dynamic type system and automatic memory management and has a large and comprehensive standard library.\\nThe best way we learn anything is by practice and exercise questions. \\nWe  have started this section for those (beginner to intermediate) who are familiar with Python.'"
      ]
     },
     "execution_count": 28,
     "metadata": {},
     "output_type": "execute_result"
    }
   ],
   "source": [
    "#exercice1\n",
    "f = open(\"python.txt\",'r')\n",
    "\n",
    "f.read()"
   ]
  },
  {
   "cell_type": "code",
   "execution_count": 23,
   "id": "2a8b61fe",
   "metadata": {},
   "outputs": [
    {
     "name": "stdout",
     "output_type": "stream",
     "text": [
      "What is Python language?                                                \n",
      "\n"
     ]
    }
   ],
   "source": [
    "#exercice2\n",
    "f = open(\"python.txt\",'r')\n",
    "print(f.readlines()[0])"
   ]
  },
  {
   "cell_type": "code",
   "execution_count": 26,
   "id": "b5a7f0d9",
   "metadata": {},
   "outputs": [
    {
     "name": "stdout",
     "output_type": "stream",
     "text": [
      "Python supports multiple programming paradigms, including object-oriented, imperative and functional programming or procedural styles. It features a dynamic type system and automatic memory management and has a large and comprehensive standard library.The best way we learn anything is by practice and exercise questions. We  have started this section for those (beginner to intermediate) who are familiar with Python.\n"
     ]
    }
   ],
   "source": [
    "#exercice3\n",
    "f = open(\"python.txt\",'r')\n",
    "print(f.readlines()[-1])"
   ]
  },
  {
   "cell_type": "code",
   "execution_count": 48,
   "id": "fa6869e4",
   "metadata": {},
   "outputs": [
    {
     "name": "stdout",
     "output_type": "stream",
     "text": [
      "Number of words in text file : 3\n"
     ]
    }
   ],
   "source": [
    "#exercice4\n",
    "a=open(\"file.txt\",\"w\")\n",
    "a.write(\"hello it's eya\")\n",
    "a.close()\n",
    "a=open(\"file.txt\",\"r\")\n",
    "test = a.read()\n",
    "words = test.split()\n",
    "\n",
    "print('Number of words in text file :', len(words))\n"
   ]
  },
  {
   "cell_type": "code",
   "execution_count": null,
   "id": "8b61c791",
   "metadata": {},
   "outputs": [],
   "source": []
  }
 ],
 "metadata": {
  "kernelspec": {
   "display_name": "Python 3",
   "language": "python",
   "name": "python3"
  },
  "language_info": {
   "codemirror_mode": {
    "name": "ipython",
    "version": 3
   },
   "file_extension": ".py",
   "mimetype": "text/x-python",
   "name": "python",
   "nbconvert_exporter": "python",
   "pygments_lexer": "ipython3",
   "version": "3.8.8"
  }
 },
 "nbformat": 4,
 "nbformat_minor": 5
}
