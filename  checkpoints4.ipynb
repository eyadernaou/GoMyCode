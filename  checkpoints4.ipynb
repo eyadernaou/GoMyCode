{
 "cells": [
  {
   "cell_type": "code",
   "execution_count": 8,
   "id": "ab8e710f",
   "metadata": {},
   "outputs": [
    {
     "name": "stdout",
     "output_type": "stream",
     "text": [
      "(50, 30)\n"
     ]
    }
   ],
   "source": [
    "#queqtion2\n",
    "def calculation(a, b):\n",
    "    return a+b, a-b\n",
    "\n",
    "result = calculation(40, 10)\n",
    "print(result)\n"
   ]
  },
  {
   "cell_type": "code",
   "execution_count": 1,
   "id": "378c8ef7",
   "metadata": {},
   "outputs": [
    {
     "name": "stdout",
     "output_type": "stream",
     "text": [
      "enter a hyphen-separated sequence: n-g-a-k\n",
      "a-g-k-n\n"
     ]
    }
   ],
   "source": [
    "#question4\n",
    "n=input(\"enter a hyphen-separated sequence: \")\n",
    "I=n.split('-')\n",
    "I.sort()\n",
    "print ('-'.join(I))"
   ]
  },
  {
   "cell_type": "code",
   "execution_count": 4,
   "id": "c412c689",
   "metadata": {},
   "outputs": [
    {
     "name": "stdout",
     "output_type": "stream",
     "text": [
      "donner le nombre d'elements de la liste 3\n",
      "donner nombre6\n",
      "donner nombre8\n",
      "donner nombre9\n",
      "the sum of the even numbers is  15\n",
      "the sum of the even numbers is  8\n"
     ]
    }
   ],
   "source": [
    "#question3\n",
    "l=[]\n",
    "n=int(input(\"donner le nombre d'elements de la liste \"))\n",
    "for i in range(0,n):\n",
    "    a=int(input(\"donner nombre\"))\n",
    "    l.append(a)\n",
    "def somme(l):\n",
    "    s=0\n",
    "    for i in l:\n",
    "        s=s+i\n",
    "        \n",
    "    return s\n",
    "def produit(l):\n",
    "    p=1\n",
    "    for i in l:\n",
    "        p=p*i\n",
    "    return p\n",
    "l1=[]\n",
    "l2=[]\n",
    "for i in range (0,len(l),2):\n",
    "    l1.append(l[i])\n",
    "    x=somme(l1)\n",
    "    \n",
    "print(\"the sum of the even numbers is \",x)\n",
    "for i in range (1,len(l),2):\n",
    "    l2.append(l[i])\n",
    "    y=produit(l2)\n",
    "print(\"the sum of the even numbers is \",y)\n"
   ]
  },
  {
   "cell_type": "code",
   "execution_count": 3,
   "id": "3cdec40b",
   "metadata": {},
   "outputs": [
    {
     "name": "stdout",
     "output_type": "stream",
     "text": [
      "Provide D: 100,150,180 \n",
      "[18, 22, 24]\n"
     ]
    }
   ],
   "source": [
    "#question5\n",
    "import math\n",
    "\n",
    "numbers = input(\"Provide D: \")\n",
    "numbers = numbers.split(',')\n",
    "\n",
    "result_list = []\n",
    "for D in numbers:\n",
    "    Q = round(math.sqrt(2 * 50 * int(D) / 30))\n",
    "    result_list.append(Q)\n",
    "\n",
    "print(result_list)"
   ]
  },
  {
   "cell_type": "code",
   "execution_count": 6,
   "id": "0ec29a7a",
   "metadata": {},
   "outputs": [
    {
     "name": "stdout",
     "output_type": "stream",
     "text": [
      "60\n"
     ]
    }
   ],
   "source": [
    "#question1\n",
    "\n",
    "def max(x, y, z):\n",
    "  \n",
    "    if (x >= y) and (x >= z):\n",
    "        largest = x\n",
    "  \n",
    "    elif (y >= x) and (y >= z):\n",
    "        largest = y\n",
    "    else:\n",
    "        largest = z\n",
    "          \n",
    "    return largest\n",
    "\n",
    "x= 6\n",
    "y = 60\n",
    "z = 12\n",
    "print(maximum(x, y, z))"
   ]
  },
  {
   "cell_type": "code",
   "execution_count": null,
   "id": "a7848d05",
   "metadata": {},
   "outputs": [],
   "source": []
  }
 ],
 "metadata": {
  "kernelspec": {
   "display_name": "Python 3",
   "language": "python",
   "name": "python3"
  },
  "language_info": {
   "codemirror_mode": {
    "name": "ipython",
    "version": 3
   },
   "file_extension": ".py",
   "mimetype": "text/x-python",
   "name": "python",
   "nbconvert_exporter": "python",
   "pygments_lexer": "ipython3",
   "version": "3.8.8"
  }
 },
 "nbformat": 4,
 "nbformat_minor": 5
}
