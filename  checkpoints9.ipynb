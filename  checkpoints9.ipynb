{
 "cells": [
  {
   "cell_type": "code",
   "execution_count": 11,
   "id": "c2ff7d52",
   "metadata": {},
   "outputs": [
    {
     "name": "stdout",
     "output_type": "stream",
     "text": [
      "False\n",
      "True\n"
     ]
    }
   ],
   "source": [
    "#exercice1\n",
    "def binary_search(item_list,item):\n",
    "    first = 0\n",
    "    last = len(item_list)-1\n",
    "    found = False\n",
    "    while( first<=last and not found):\n",
    "        \n",
    "        mid = (first + last)//2\n",
    "        if item_list[mid] == item :\n",
    "            \n",
    "            found = True\n",
    "        else:\n",
    "            \n",
    "            if item < item_list[mid]:\n",
    "                \n",
    "                last = mid - 1\n",
    "            else:\n",
    "                first = mid + 1\t\n",
    "\n",
    "    return found\n",
    "\n",
    "print(binary_search([1,2,3,5,8], 6))\n",
    "print(binary_search([1,2,3,5,8], 5))\n"
   ]
  },
  {
   "cell_type": "code",
   "execution_count": 12,
   "id": "82b99911",
   "metadata": {},
   "outputs": [
    {
     "name": "stdout",
     "output_type": "stream",
     "text": [
      "81\n"
     ]
    }
   ],
   "source": [
    "#exercice2\n",
    "def power(a,b):\n",
    "    \n",
    "    if b==0:\n",
    "        \n",
    "        return 1\n",
    "    elif a==0:\n",
    "        \n",
    "        return 0\n",
    "    elif b==1:\n",
    "        \n",
    "        return a\n",
    "    else:\n",
    "        \n",
    "        return a*power(a,b-1)\n",
    "\n",
    "print(power(3,4))"
   ]
  },
  {
   "cell_type": "code",
   "execution_count": 13,
   "id": "24f238ad",
   "metadata": {},
   "outputs": [
    {
     "name": "stdout",
     "output_type": "stream",
     "text": [
      "[13, 22, 29, 37, 46, 49, 52, 56, 71]\n"
     ]
    }
   ],
   "source": [
    "#exercice3\n",
    "def bubbleSort(nlist):\n",
    "    for passnum in range(len(nlist)-1,0,-1):\n",
    "        for i in range(passnum):\n",
    "            if nlist[i]>nlist[i+1]:\n",
    "                temp = nlist[i]\n",
    "                nlist[i] = nlist[i+1]\n",
    "                nlist[i+1] = temp\n",
    "\n",
    "nlist = [29,13,22,37,52,49,46,71,56]\n",
    "bubbleSort(nlist)\n",
    "print(nlist)"
   ]
  },
  {
   "cell_type": "code",
   "execution_count": 18,
   "id": "c44694af",
   "metadata": {},
   "outputs": [
    {
     "name": "stdout",
     "output_type": "stream",
     "text": [
      "[13, 22, 29, 37, 46, 49, 52, 56, 71]\n"
     ]
    }
   ],
   "source": [
    "#exercice4\n",
    "def mergeSort(myList):\n",
    "    if len(myList) > 1:\n",
    "        mid = len(myList) // 2\n",
    "        left = myList[:mid]\n",
    "        right = myList[mid:]\n",
    "\n",
    "        mergeSort(left)\n",
    "        mergeSort(right)\n",
    "\n",
    "        i = 0\n",
    "        j = 0\n",
    "        k = 0\n",
    "        \n",
    "        while i < len(left) and j < len(right):\n",
    "            if left[i] <= right[j]:\n",
    "              myList[k] = left[i]\n",
    "              i += 1\n",
    "            else:\n",
    "                myList[k] = right[j]\n",
    "                j += 1\n",
    "            k += 1\n",
    "\n",
    "        while i < len(left):\n",
    "            myList[k] = left[i]\n",
    "            i += 1\n",
    "            k += 1\n",
    "\n",
    "        while j < len(right):\n",
    "            myList[k]=right[j]\n",
    "            j += 1\n",
    "            k += 1\n",
    "\n",
    "myList = [29,13,22,37,52,49,46,71,56]\n",
    "mergeSort(myList)\n",
    "print(myList)\n"
   ]
  },
  {
   "cell_type": "code",
   "execution_count": 20,
   "id": "00bf2640",
   "metadata": {},
   "outputs": [
    {
     "name": "stdout",
     "output_type": "stream",
     "text": [
      "the Number of Elements of the list: 5\n",
      "enter the Element of the List: 4\n",
      "enter the Element of the List: 8\n",
      "enter the Element of the List: 9\n",
      "enter the Element of the List: 6\n",
      "enter the Element of the List: 11\n",
      "[4, 6, 8, 9, 11]\n"
     ]
    }
   ],
   "source": [
    "#exercice5:\n",
    "list1= []\n",
    "b = int(input(\"the Number of Elements of the list: \"))\n",
    "for i in range(b):\n",
    "    value = int(input(\"enter the Element of the List: \"))\n",
    "    list1.append(value)\n",
    "def quickSort(list1):\n",
    "    quickSortHlp(list1,0,len(list1)-1)\n",
    "\n",
    "def quickSortHlp(list1,start,end):\n",
    "    if start < end:\n",
    "        splitpoint = partition(list1,start,end)\n",
    "        quickSortHlp(list1,start,splitpoint-1)\n",
    "        quickSortHlp(list1,splitpoint+1,end)\n",
    "def partition(list1, start, end):\n",
    "    pivot = list1[start]\n",
    "    low = start + 1\n",
    "    high = end\n",
    "    while True:\n",
    "        while low <= high and list1[high] >= pivot:\n",
    "            high = high - 1\n",
    "\n",
    "        \n",
    "        while low <= high and list1[low] <= pivot:\n",
    "            low = low + 1\n",
    "        if low <= high:\n",
    "            list1[low], list1[high] = list1[high], list1[low]\n",
    "        else:\n",
    "            break\n",
    "\n",
    "    list1[start], list1[high] = list1[high], list1[start]\n",
    "\n",
    "    return high\n",
    "quickSort(list1)\n",
    "print(list1)\n",
    "\n"
   ]
  },
  {
   "cell_type": "code",
   "execution_count": null,
   "id": "46624963",
   "metadata": {},
   "outputs": [],
   "source": []
  }
 ],
 "metadata": {
  "kernelspec": {
   "display_name": "Python 3",
   "language": "python",
   "name": "python3"
  },
  "language_info": {
   "codemirror_mode": {
    "name": "ipython",
    "version": 3
   },
   "file_extension": ".py",
   "mimetype": "text/x-python",
   "name": "python",
   "nbconvert_exporter": "python",
   "pygments_lexer": "ipython3",
   "version": "3.8.8"
  }
 },
 "nbformat": 4,
 "nbformat_minor": 5
}
